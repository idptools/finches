{
 "cells": [
  {
   "cell_type": "markdown",
   "id": "ce28a472-0892-4ae3-8309-56d81cce674e",
   "metadata": {},
   "source": [
    "# Build MpipiGG forcefield\n",
    "##### Last updated 2024-01-13\n",
    "\n",
    "This notebook walks through the steps for editing the original Mpipi parameters to construct the Mpipi-GG forcefield.  Note that the aliphatic context residues are NOT used in the ALBATROSS paper."
   ]
  },
  {
   "cell_type": "code",
   "execution_count": 2,
   "id": "52d97b8b-60c0-49e6-9c5e-73795db4fd81",
   "metadata": {},
   "outputs": [],
   "source": [
    "import finches\n",
    "import pickle\n",
    "\n",
    "# import dedicated functions for this conversion\n",
    "from finches.data.mPiPi import mPiPi_GGv1_modification_fxns as mpipi_gg_update"
   ]
  },
  {
   "cell_type": "code",
   "execution_count": 6,
   "id": "c3e84e52-357e-4855-9df4-b48c993b398f",
   "metadata": {},
   "outputs": [],
   "source": [
    "# define all (standard) residues that are supported by Mpipi-GG (i.e. those we can pass in from finches)\n",
    "ALL_RESIDUES_TYPES = ['A','D','E','F','G','H','I','K','L','M','N','P','Q','R','S','T','V','W','Y','C','U']\n",
    "\n",
    "def sanity_check_revised_dictionary(indict, all_allowed_res=ALL_RESIDUES_TYPES):\n",
    "    \"\"\"\n",
    "    Sanity check function to ensure the update functions we call return a valid\n",
    "    dictionary that meets the specification. Note that Mpipi-GG actually defines\n",
    "    some additional residues types (lower-case letters) for context-dependent\n",
    "    aliphatic residues, but we don't validate those here, assuming/hoping that\n",
    "    the function which created them is responsible for their validation.\n",
    "\n",
    "    Parameters\n",
    "    -------------\n",
    "    indict : dict\n",
    "        Dictionary that has a [A1][A2] mapping structure with the full, \n",
    "        redundant matrix of inter-residue/nucleotide parameters for whatever\n",
    "        the matrix passed offers.\n",
    "\n",
    "    all_allowed_res : list\n",
    "\n",
    "    \"\"\"\n",
    "    if not isinstance(indict, dict):\n",
    "        raise Exception('Passed function did not generate a dictionary')\n",
    "        \n",
    "    # check all possible combos return floatable values\n",
    "    for aa1 in all_allowed_res:\n",
    "        for aa2 in all_allowed_res:\n",
    "            try:\n",
    "                _x = float(indict[aa1][aa2])\n",
    "            except Exception as e:\n",
    "                raise Exception(f'Dictionary could not return sigma values between {aa1} and {aa2}.\\nUpdate dictionary generated is: {str(indict)}.Error below:\\n({str(e)}\\n')\n"
   ]
  },
  {
   "cell_type": "code",
   "execution_count": 7,
   "id": "64c6133e-4254-4b25-832f-f915887de294",
   "metadata": {},
   "outputs": [],
   "source": [
    "# define the location where the original Mpipi parameters are located\n",
    "data_prefix = finches.get_data('mPipi')\n"
   ]
  },
  {
   "cell_type": "markdown",
   "id": "cc293454-1589-418c-8a52-f2dd7ca6701a",
   "metadata": {},
   "source": [
    "### Step 1: Read in default parameters\n",
    "Read in the default Mpipi parameters"
   ]
  },
  {
   "cell_type": "code",
   "execution_count": 8,
   "id": "9848081f-9093-4ef8-bf66-d98920045f90",
   "metadata": {},
   "outputs": [],
   "source": [
    "with open(f'{data_prefix}/sigma.pickle', 'rb') as fh:\n",
    "    SIGMA_ALL_Mpipi_OG = pickle.load(fh)\n",
    "        \n",
    "with open(f'{data_prefix}/epsilon.pickle', 'rb') as fh:\n",
    "    EPSILON_ALL_Mpipi_OG = pickle.load(fh)\n",
    "    \n",
    "with open(f'{data_prefix}/nu.pickle', 'rb') as fh:\n",
    "    NU_ALL_Mpipi_OG = pickle.load(fh)    \n",
    "    \n",
    "with open(f'{data_prefix}/mu.pickle', 'rb') as fh:\n",
    "    MU_ALL_Mpipi_OG = pickle.load(fh)        \n",
    "    \n",
    "with open(f'{data_prefix}/charge.pickle', 'rb') as fh:\n",
    "    CHARGE_ALL_Mpipi_OG = pickle.load(fh)    \n"
   ]
  },
  {
   "cell_type": "code",
   "execution_count": 9,
   "id": "63da779a-9c57-4fb7-a212-a3b441979e7b",
   "metadata": {},
   "outputs": [],
   "source": [
    "with open(f'{data_prefix}/sigma.pickle', 'rb') as fh:\n",
    "    SIGMA_ALL = pickle.load(fh)\n",
    "        \n",
    "with open(f'{data_prefix}/epsilon.pickle', 'rb') as fh:\n",
    "    EPSILON_ALL = pickle.load(fh)\n",
    "    \n",
    "with open(f'{data_prefix}/nu.pickle', 'rb') as fh:\n",
    "    NU_ALL = pickle.load(fh)    \n",
    "    \n",
    "with open(f'{data_prefix}/mu.pickle', 'rb') as fh:\n",
    "    MU_ALL = pickle.load(fh)        \n",
    "    \n",
    "with open(f'{data_prefix}/charge.pickle', 'rb') as fh:\n",
    "    CHARGE_ALL = pickle.load(fh)    \n"
   ]
  },
  {
   "cell_type": "code",
   "execution_count": 10,
   "id": "fdb135d7-844b-422b-b45b-5519618e0ad5",
   "metadata": {},
   "outputs": [],
   "source": [
    "# FIRST update RNA. This MUST happen first so we continue with a full updated set of parameters\n",
    "CHARGE_ALL, MU_ALL, NU_ALL, EPSILON_ALL, SIGMA_ALL = mpipi_gg_update.ADD_RNA_U_ALL(CHARGE_ALL, MU_ALL, NU_ALL, EPSILON_ALL, SIGMA_ALL)\n",
    "\n",
    "sanity_check_revised_dictionary(MU_ALL)\n",
    "sanity_check_revised_dictionary(NU_ALL)\n",
    "sanity_check_revised_dictionary(EPSILON_ALL)\n",
    "sanity_check_revised_dictionary(SIGMA_ALL)"
   ]
  },
  {
   "cell_type": "code",
   "execution_count": 11,
   "id": "9e9ef0c5-04f1-4fa5-8cb3-d49dbd1cf3f7",
   "metadata": {},
   "outputs": [],
   "source": [
    "# correct existing aliphatic residues. This MUST happen second, because those values are then used when initializing \n",
    "# the new context-dependent alphatic residues\n",
    "CHARGE_ALL, MU_ALL, NU_ALL, EPSILON_ALL, SIGMA_ALL = mpipi_gg_update.CORRECT_aliphatic_aliphatic_ALL(CHARGE_ALL, MU_ALL, NU_ALL, EPSILON_ALL, SIGMA_ALL)\n",
    "sanity_check_revised_dictionary(MU_ALL)\n",
    "sanity_check_revised_dictionary(NU_ALL)\n",
    "sanity_check_revised_dictionary(EPSILON_ALL)\n",
    "sanity_check_revised_dictionary(SIGMA_ALL)"
   ]
  },
  {
   "cell_type": "code",
   "execution_count": 12,
   "id": "12a05bfa-dcd4-4a2b-beae-c0cc2a1c70fe",
   "metadata": {},
   "outputs": [],
   "source": [
    "# Next we add in the new alphatic residues!\n",
    "CHARGE_ALL, MU_ALL, NU_ALL, EPSILON_ALL, SIGMA_ALL = mpipi_gg_update.CREATE_new_aliphatic_residues_ALL(CHARGE_ALL, MU_ALL, NU_ALL, EPSILON_ALL, SIGMA_ALL)\n",
    "sanity_check_revised_dictionary(MU_ALL)\n",
    "sanity_check_revised_dictionary(NU_ALL)\n",
    "sanity_check_revised_dictionary(EPSILON_ALL)\n",
    "sanity_check_revised_dictionary(SIGMA_ALL)"
   ]
  },
  {
   "cell_type": "code",
   "execution_count": 13,
   "id": "d89b027b-11c2-411e-934d-cc9ff0f04379",
   "metadata": {},
   "outputs": [],
   "source": [
    "# next we scale aliphatic groups in different contexts\n",
    "EPSILON_ALL = mpipi_gg_update.SCALE_aliphatic_group_EPSILON(EPSILON_ALL)\n",
    "sanity_check_revised_dictionary(EPSILON_ALL)\n"
   ]
  },
  {
   "cell_type": "code",
   "execution_count": 14,
   "id": "e82c13f1-562b-47a2-8401-16ed30edd389",
   "metadata": {},
   "outputs": [],
   "source": [
    "# next we update minor tweaks which include\n",
    "\n",
    "## proline scaling\n",
    "SIGMA_ALL = mpipi_gg_update.ENLARGE_Proline_SIGMA(SIGMA_ALL)\n",
    "sanity_check_revised_dictionary(SIGMA_ALL)\n",
    "\n",
    "## strengthening  G:S and G:G interaction strengths\n",
    "EPSILON_ALL = mpipi_gg_update.STRENGTHEN_small_polar_EPSILON(EPSILON_ALL)\n",
    "sanity_check_revised_dictionary(EPSILON_ALL)\n",
    "\n",
    "## weakening E|D|R : Y|F|W interaction strength\n",
    "EPSILON_ALL = mpipi_gg_update.WEAKEN_Aromatic_Charge_EPSILON(EPSILON_ALL)\n",
    "sanity_check_revised_dictionary(EPSILON_ALL)\n",
    "\n",
    "\n"
   ]
  },
  {
   "cell_type": "code",
   "execution_count": 15,
   "id": "7375c960-ebdd-4935-80af-4faaba582393",
   "metadata": {},
   "outputs": [],
   "source": [
    "# finally print changes"
   ]
  },
  {
   "cell_type": "code",
   "execution_count": 16,
   "id": "eee414eb-6974-4ec7-b05b-0d46911817a6",
   "metadata": {},
   "outputs": [
    {
     "name": "stdout",
     "output_type": "stream",
     "text": [
      "Epsilon changes\n",
      "M-M (new-old): 0.01\n",
      "M-A (new-old): 0.004\n",
      "M-V (new-old): 0.046\n",
      "M-L (new-old): 0.04\n",
      "M-I (new-old): 0.051\n",
      "G-G (new-old): 0.115\n",
      "G-S (new-old): 0.094\n",
      "R-Y (new-old): -0.365\n",
      "R-W (new-old): -0.415\n",
      "R-F (new-old): -0.327\n",
      "A-A (new-old): -0.002\n",
      "A-V (new-old): 0.04\n",
      "A-L (new-old): 0.034\n",
      "A-I (new-old): 0.045\n",
      "D-Y (new-old): -0.158\n",
      "D-W (new-old): -0.197\n",
      "D-F (new-old): -0.15\n",
      "E-Y (new-old): -0.16\n",
      "E-W (new-old): -0.2\n",
      "E-F (new-old): -0.152\n",
      "V-V (new-old): 0.082\n",
      "V-L (new-old): 0.076\n",
      "V-I (new-old): 0.088\n",
      "L-L (new-old): 0.07\n",
      "L-I (new-old): 0.081\n",
      "I-I (new-old): 0.093\n"
     ]
    }
   ],
   "source": [
    "print('Epsilon changes')\n",
    "for idx1 in range(len(EPSILON_ALL)):\n",
    "    for idx2 in range(idx1, len(EPSILON_ALL)): \n",
    "        AA1 = list(EPSILON_ALL.keys())[idx1]\n",
    "        AA2 = list(EPSILON_ALL.keys())[idx2]\n",
    "\n",
    "        \n",
    "        if AA1 in EPSILON_ALL_Mpipi_OG and AA2 in EPSILON_ALL_Mpipi_OG:\n",
    "            if not np.isclose(EPSILON_ALL[AA1][AA2], EPSILON_ALL_Mpipi_OG[AA1][AA2]):\n",
    "                print(f'{AA1}-{AA2} (new-old): {np.round(EPSILON_ALL[AA1][AA2] -EPSILON_ALL_Mpipi_OG[AA1][AA2],3)}')\n",
    "            \n",
    "        "
   ]
  },
  {
   "cell_type": "code",
   "execution_count": 17,
   "id": "ac7b36e0-5394-470b-a36b-405114ed52ed",
   "metadata": {},
   "outputs": [
    {
     "name": "stdout",
     "output_type": "stream",
     "text": [
      "Sigma changes\n",
      "M-P (new-old): 2.024\n",
      "G-P (new-old): 1.732\n",
      "K-P (new-old): 2.056\n",
      "T-P (new-old): 1.928\n",
      "R-P (new-old): 2.086\n",
      "A-P (new-old): 1.827\n",
      "D-P (new-old): 1.919\n",
      "E-P (new-old): 1.977\n",
      "Y-P (new-old): 2.068\n",
      "V-P (new-old): 1.972\n",
      "L-P (new-old): 2.026\n",
      "Q-P (new-old): 1.993\n",
      "W-P (new-old): 2.123\n",
      "F-P (new-old): 2.051\n",
      "S-P (new-old): 1.851\n",
      "H-P (new-old): 2.003\n",
      "N-P (new-old): 1.935\n",
      "P-P (new-old): 1.916\n",
      "P-C (new-old): 1.902\n",
      "P-I (new-old): 2.027\n"
     ]
    }
   ],
   "source": [
    "print('Sigma changes')\n",
    "for idx1 in range(len(SIGMA_ALL)):\n",
    "    for idx2 in range(idx1, len(SIGMA_ALL)): \n",
    "        AA1 = list(EPSILON_ALL.keys())[idx1]\n",
    "        AA2 = list(EPSILON_ALL.keys())[idx2]\n",
    "\n",
    "        \n",
    "        if AA1 in EPSILON_ALL_Mpipi_OG and AA2 in EPSILON_ALL_Mpipi_OG:\n",
    "            if not np.isclose(SIGMA_ALL[AA1][AA2], SIGMA_ALL_Mpipi_OG[AA1][AA2]):\n",
    "                print(f'{AA1}-{AA2} (new-old): {np.round(SIGMA_ALL[AA1][AA2] - SIGMA_ALL_Mpipi_OG[AA1][AA2],3)}')\n",
    "        "
   ]
  },
  {
   "cell_type": "code",
   "execution_count": 19,
   "id": "0956e530-baef-4033-9476-92c74950938a",
   "metadata": {},
   "outputs": [],
   "source": [
    "with open(f'{data_prefix}/sigma_ggv1.pickle', 'wb') as fh:\n",
    "    pickle.dump(SIGMA_ALL, fh)\n",
    "        \n",
    "with open(f'{data_prefix}/epsilon_ggv1.pickle', 'wb') as fh:\n",
    "     pickle.dump(EPSILON_ALL, fh)\n",
    "    \n",
    "with open(f'{data_prefix}/nu_ggv1.pickle', 'wb') as fh:\n",
    "     pickle.dump(NU_ALL, fh)    \n",
    "    \n",
    "with open(f'{data_prefix}/mu_ggv1.pickle', 'wb') as fh:\n",
    "     pickle.dump(MU_ALL, fh)        \n",
    "    \n",
    "with open(f'{data_prefix}/charge_ggv1.pickle', 'wb') as fh:\n",
    "     pickle.dump(CHARGE_ALL, fh)    \n"
   ]
  }
 ],
 "metadata": {
  "kernelspec": {
   "display_name": "Python 3 (ipykernel)",
   "language": "python",
   "name": "python3"
  },
  "language_info": {
   "codemirror_mode": {
    "name": "ipython",
    "version": 3
   },
   "file_extension": ".py",
   "mimetype": "text/x-python",
   "name": "python",
   "nbconvert_exporter": "python",
   "pygments_lexer": "ipython3",
   "version": "3.8.17"
  }
 },
 "nbformat": 4,
 "nbformat_minor": 5
}
