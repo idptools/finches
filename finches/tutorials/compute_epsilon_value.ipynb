{
 "cells": [
  {
   "cell_type": "code",
   "execution_count": 1,
   "id": "dfc1f0a6-6206-49fc-8a91-9b8925a0e2b8",
   "metadata": {},
   "outputs": [],
   "source": [
    "from finches import epsilon_calculation\n",
    "from finches import PDB_structure_tools\n",
    "\n",
    "from finches.forcefields.calvados import calvados_model\n",
    "from finches.forcefields.mPiPi import mPiPi_model\n",
    "\n",
    "from sparrow import Protein"
   ]
  },
  {
   "cell_type": "markdown",
   "id": "2f7c4090-64e7-4ea6-ab33-59daabafeca5",
   "metadata": {},
   "source": [
    "### Compute Homotypic Epsilon"
   ]
  },
  {
   "cell_type": "code",
   "execution_count": 4,
   "id": "650c2c57-86b1-4c27-9c64-3e56239a915c",
   "metadata": {},
   "outputs": [
    {
     "name": "stdout",
     "output_type": "stream",
     "text": [
      "Epsilon calculation (Default): 5.27935995163114\n",
      "Epsilon calculation (NO charge weighting): 7.291147732160095\n",
      "Epsilon calculation (NO aliphatic weighting): 6.040589795968316\n"
     ]
    }
   ],
   "source": [
    "test_IDR = 'GGSRGSILIILILIIGEREERERSGSGSYYYYYGEDEDEDEDEDEDESGSGEDGEREGDGGSGSGSRRKKRRKGSGSAMIL'\n",
    "\n",
    "# initialize forcefild model\n",
    "mPiPi_GGv1_model = mPiPi_model('mPiPi_GGv1')\n",
    "CALVADOS2_model = calvados_model('CALVADOS2')\n",
    "\n",
    "# intialize matrix constructor with model\n",
    "X_local = epsilon_calculation.Interaction_Matrix_Constructor(mPiPi_GGv1_model) \n",
    "\n",
    "# compute epsilon\n",
    "defult_calcuation = epsilon_calculation.get_sequence_epsilon_value(test_IDR, test_IDR, X_local)\n",
    "print(f'Epsilon calculation (Default): {defult_calcuation}')\n",
    "\n",
    "NOCHARGE_calcuation = epsilon_calculation.get_sequence_epsilon_value(test_IDR, test_IDR, X_local, use_charge_weighting=False)\n",
    "print(f'Epsilon calculation (NO charge weighting): {NOCHARGE_calcuation}')\n",
    "\n",
    "NOALIPHATICS_calcuation = epsilon_calculation.get_sequence_epsilon_value(test_IDR, test_IDR, X_local, use_aliphatic_weighting=False)\n",
    "print(f'Epsilon calculation (NO aliphatic weighting): {NOALIPHATICS_calcuation}')"
   ]
  },
  {
   "cell_type": "markdown",
   "id": "279474c9-a748-44e4-80b7-ab80ec2255a6",
   "metadata": {},
   "source": [
    "### Compute Heterotypic Epsilon"
   ]
  },
  {
   "cell_type": "code",
   "execution_count": 8,
   "id": "88390a38-5bb6-4d38-a7a7-a091dc11d794",
   "metadata": {},
   "outputs": [
    {
     "name": "stdout",
     "output_type": "stream",
     "text": [
      "IDR Centric Epsilon:\n",
      " Epsilon calculation (Default): -3.606653969446132\n",
      " Epsilon calculation (NO charge weighting): -3.2923517313474058\n",
      " Epsilon calculation (NO aliphatic weighting): -3.4852572151666354\n",
      "\n",
      "IDR2 Centric Epsilon:\n",
      " Epsilon calculation (Default): -4.319079444892285\n",
      " Epsilon calculation (NO charge weighting): -3.942692814082701\n",
      " Epsilon calculation (NO aliphatic weighting): -4.173703084829178\n"
     ]
    }
   ],
   "source": [
    "test_IDR = 'GGSRGSILIILILIIGEREERERSGSGSYYYYYGEDEDEDEDEDEDESGSGEDGEREGDGGSGSGSRRKKRRKGSGSAMIL'\n",
    "test_IDR2 = 'EPKHNSNRQLERSGRFGGNPGGFGNQGGFGGNMQREPNQAFGSGNNSYSGSNSGAAIGWGSASNAGSGSGFNGGFGSSMDSKSRRKRKRKRKSGWGM'\n",
    "\n",
    "# initialize forcefild model\n",
    "mPiPi_GGv1_model = mPiPi_model('mPiPi_GGv1')\n",
    "CALVADOS2_model = calvados_model('CALVADOS2')\n",
    "\n",
    "# intialize matrix constructor with model\n",
    "X_local = epsilon_calculation.Interaction_Matrix_Constructor(mPiPi_GGv1_model) \n",
    "\n",
    "# compute epsilon\n",
    "print(f'IDR Centric Epsilon:')\n",
    "defult_calcuation = epsilon_calculation.get_sequence_epsilon_value(test_IDR, test_IDR2, X_local)\n",
    "print(f' Epsilon calculation (Default): {defult_calcuation}')\n",
    "\n",
    "NOCHARGE_calcuation = epsilon_calculation.get_sequence_epsilon_value(test_IDR, test_IDR2, X_local, use_charge_weighting=False)\n",
    "print(f' Epsilon calculation (NO charge weighting): {NOCHARGE_calcuation}')\n",
    "\n",
    "NOALIPHATICS_calcuation = epsilon_calculation.get_sequence_epsilon_value(test_IDR, test_IDR2, X_local, use_aliphatic_weighting=False)\n",
    "print(f' Epsilon calculation (NO aliphatic weighting): {NOALIPHATICS_calcuation}')\n",
    "\n",
    "# compute epsilon\n",
    "print(f'\\nIDR2 Centric Epsilon:')\n",
    "defult_calcuation = epsilon_calculation.get_sequence_epsilon_value(test_IDR2, test_IDR, X_local)\n",
    "print(f' Epsilon calculation (Default): {defult_calcuation}')\n",
    "\n",
    "NOCHARGE_calcuation = epsilon_calculation.get_sequence_epsilon_value(test_IDR2, test_IDR, X_local, use_charge_weighting=False)\n",
    "print(f' Epsilon calculation (NO charge weighting): {NOCHARGE_calcuation}')\n",
    "\n",
    "NOALIPHATICS_calcuation = epsilon_calculation.get_sequence_epsilon_value(test_IDR2, test_IDR, X_local, use_aliphatic_weighting=False)\n",
    "print(f' Epsilon calculation (NO aliphatic weighting): {NOALIPHATICS_calcuation}')\n"
   ]
  },
  {
   "cell_type": "markdown",
   "id": "601169fb-05c3-4b32-895a-ca89930ac223",
   "metadata": {},
   "source": [
    "### Compute Heterotypic Epsilon with RNA"
   ]
  },
  {
   "cell_type": "code",
   "execution_count": 9,
   "id": "46f3bdac-75b3-4e42-9f41-d22bcf41a5ce",
   "metadata": {},
   "outputs": [
    {
     "name": "stdout",
     "output_type": "stream",
     "text": [
      "IDR Centric Epsilon:\n",
      " Epsilon calculation (Default): 19.505648587222638\n",
      " Epsilon calculation (NO charge weighting): 19.505648587222638\n",
      " Epsilon calculation (NO aliphatic weighting): 19.505648587222638\n",
      "\n",
      "RNA Centric Epsilon:\n",
      " Epsilon calculation (Default): 8.428366673491269\n",
      " Epsilon calculation (NO charge weighting): 8.428366673491269\n",
      " Epsilon calculation (NO aliphatic weighting): 8.428366673491269\n"
     ]
    }
   ],
   "source": [
    "test_IDR = 'GGSRGSILIILILIIGEREERERSGSGSYYYYYGEDEDEDEDEDEDESGSGEDGEREGDGGSGSGSRRKKRRKGSGSAMIL'\n",
    "RNA = 'UUUUUUUUUUUUUUUUUUUUUUUUUUUUUUUUUUU'\n",
    "\n",
    "# initialize forcefild model\n",
    "mPiPi_GGv1_model = mPiPi_model('mPiPi_GGv1') # this is the only model that currently has RNA\n",
    "\n",
    "# intialize matrix constructor with model\n",
    "X_local = epsilon_calculation.Interaction_Matrix_Constructor(mPiPi_GGv1_model) \n",
    "\n",
    "# compute epsilon\n",
    "print(f'IDR Centric Epsilon:')\n",
    "defult_calcuation = epsilon_calculation.get_sequence_epsilon_value(test_IDR, RNA, X_local)\n",
    "print(f' Epsilon calculation (Default): {defult_calcuation}')\n",
    "\n",
    "NOCHARGE_calcuation = epsilon_calculation.get_sequence_epsilon_value(test_IDR, RNA, X_local, use_charge_weighting=False)\n",
    "print(f' Epsilon calculation (NO charge weighting): {NOCHARGE_calcuation}')\n",
    "\n",
    "NOALIPHATICS_calcuation = epsilon_calculation.get_sequence_epsilon_value(test_IDR, RNA, X_local, use_aliphatic_weighting=False)\n",
    "print(f' Epsilon calculation (NO aliphatic weighting): {NOALIPHATICS_calcuation}')\n",
    "\n",
    "# compute epsilon\n",
    "print(f'\\nRNA Centric Epsilon:')\n",
    "defult_calcuation = epsilon_calculation.get_sequence_epsilon_value(RNA, test_IDR, X_local)\n",
    "print(f' Epsilon calculation (Default): {defult_calcuation}')\n",
    "\n",
    "NOCHARGE_calcuation = epsilon_calculation.get_sequence_epsilon_value(RNA, test_IDR, X_local, use_charge_weighting=False)\n",
    "print(f' Epsilon calculation (NO charge weighting): {NOCHARGE_calcuation}')\n",
    "\n",
    "NOALIPHATICS_calcuation = epsilon_calculation.get_sequence_epsilon_value(RNA, test_IDR, X_local, use_aliphatic_weighting=False)\n",
    "print(f' Epsilon calculation (NO aliphatic weighting): {NOALIPHATICS_calcuation}')\n",
    "\n",
    "# NOTE weighting does not affect RNA epsilon...."
   ]
  },
  {
   "cell_type": "markdown",
   "id": "e6ed10a2-aa4b-4b3e-aec7-0cae1072df8f",
   "metadata": {},
   "source": [
    "### Compute Heterotypic Epsilon with surface of FOLDED DOMAIN"
   ]
  },
  {
   "cell_type": "code",
   "execution_count": 12,
   "id": "b2998b41-5652-404d-96e8-a2f7c8fbc7e2",
   "metadata": {},
   "outputs": [
    {
     "name": "stdout",
     "output_type": "stream",
     "text": [
      "IDR Centric Epsilon:\n",
      " Epsilon calculation (Default): 0.4738645916037125\n",
      " Epsilon calculation (NO charge weighting): 0.4738645916037125\n",
      " Epsilon calculation (NO aliphatic weighting): 0.4738645916037125 \n",
      "\t**NOTE** same as defult as aliphatic surface weighting is not conducted\n",
      "\n",
      "FD Centric Epsilon:\n",
      " Epsilon calculation (Default): 0.3270333096983391\n",
      " Epsilon calculation (NO charge weighting): 0.3270333096983391\n",
      " Epsilon calculation (NO aliphatic weighting): 0.3270333096983391 \n",
      "\t**NOTE** same as defult as aliphatic surface weighting is not conducted\n"
     ]
    }
   ],
   "source": [
    "nterminal_IDR = 'MSDNGPQNQRNAPRITFGGPSDSTGSNQNGERSGARSKQRRPQGLPNNT'\n",
    "PDB_FILE = 'test_pdb.pdb'\n",
    "\n",
    "# initialize forcefild model\n",
    "mPiPi_GGv1_model = mPiPi_model('mPiPi_GGv1')\n",
    "CALVADOS2_model = calvados_model('CALVADOS2')\n",
    "\n",
    "# intialize matrix constructor with model\n",
    "X_local = epsilon_calculation.Interaction_Matrix_Constructor(mPiPi_GGv1_model) \n",
    "\n",
    "\n",
    "#  NOTE: domain bounds IDR: 0-49, FD: 49-173\n",
    "# parse folded domain\n",
    "SAFD_seq, SAFD_idxs, SAFD_cords = PDB_structure_tools.pdb_to_SDFDresidues_and_xyzs(PDB_FILE,  49, 173, issolate_domain=False)\n",
    "\n",
    "# compute epsilon\n",
    "print(f'IDR Centric Epsilon:')\n",
    "defult_calcuation = epsilon_calculation.get_interdomain_epsilon_value(SAFD_seq, nterminal_IDR, X_local, SAFD_cords, IDR_positon='Nterm')\n",
    "print(f' Epsilon calculation (Default): {defult_calcuation}')\n",
    "\n",
    "NOCHARGE_calcuation = epsilon_calculation.get_interdomain_epsilon_value(SAFD_seq, nterminal_IDR, X_local, SAFD_cords, IDR_positon='Nterm', use_charge_weighting=False)\n",
    "print(f' Epsilon calculation (NO charge weighting): {NOCHARGE_calcuation}')\n",
    "\n",
    "NOALIPHATICS_calcuation = epsilon_calculation.get_interdomain_epsilon_value(SAFD_seq, nterminal_IDR, X_local, SAFD_cords, IDR_positon='Nterm')\n",
    "print(f' Epsilon calculation (NO aliphatic weighting): {NOALIPHATICS_calcuation} \\n\\t**NOTE** same as defult as aliphatic surface weighting is not conducted')\n",
    "\n",
    "# compute epsilon\n",
    "print(f'\\nFD Centric Epsilon:')\n",
    "defult_calcuation = epsilon_calculation.get_interdomain_epsilon_value(SAFD_seq, nterminal_IDR, X_local, SAFD_cords, IDR_positon='Nterm', sequence_of_ref='sequence2')\n",
    "print(f' Epsilon calculation (Default): {defult_calcuation}')\n",
    "\n",
    "NOCHARGE_calcuation = epsilon_calculation.get_interdomain_epsilon_value(SAFD_seq, nterminal_IDR, X_local, SAFD_cords, IDR_positon='Nterm', use_charge_weighting=False,  sequence_of_ref='sequence2')\n",
    "print(f' Epsilon calculation (NO charge weighting): {NOCHARGE_calcuation}')\n",
    "\n",
    "NOALIPHATICS_calcuation = epsilon_calculation.get_interdomain_epsilon_value(SAFD_seq, nterminal_IDR, X_local, SAFD_cords, IDR_positon='Nterm',  sequence_of_ref='sequence2')\n",
    "print(f' Epsilon calculation (NO aliphatic weighting): {NOALIPHATICS_calcuation} \\n\\t**NOTE** same as defult as aliphatic surface weighting is not conducted')"
   ]
  },
  {
   "cell_type": "code",
   "execution_count": null,
   "id": "212935d4-bf60-4e8d-b328-e73d27295286",
   "metadata": {},
   "outputs": [],
   "source": []
  }
 ],
 "metadata": {
  "kernelspec": {
   "display_name": "Python 3 (ipykernel)",
   "language": "python",
   "name": "python3"
  },
  "language_info": {
   "codemirror_mode": {
    "name": "ipython",
    "version": 3
   },
   "file_extension": ".py",
   "mimetype": "text/x-python",
   "name": "python",
   "nbconvert_exporter": "python",
   "pygments_lexer": "ipython3",
   "version": "3.8.17"
  }
 },
 "nbformat": 4,
 "nbformat_minor": 5
}
